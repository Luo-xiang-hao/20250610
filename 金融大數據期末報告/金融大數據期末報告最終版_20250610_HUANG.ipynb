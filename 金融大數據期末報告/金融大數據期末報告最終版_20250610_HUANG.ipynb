{
  "nbformat": 4,
  "nbformat_minor": 0,
  "metadata": {
    "colab": {
      "provenance": []
    },
    "kernelspec": {
      "name": "python3",
      "display_name": "Python 3"
    },
    "language_info": {
      "name": "python"
    }
  },
  "cells": [
    {
      "cell_type": "code",
      "execution_count": 10,
      "metadata": {
        "id": "NLAisxhYglzG"
      },
      "outputs": [],
      "source": [
        "# IVV & SPY 關聯規則分析（Association Rule Analysis）\n",
        "\n",
        "# 安裝必要套件\n",
        "!pip install mlxtend --quiet\n",
        "\n",
        "# 載入套件\n",
        "import pandas as pd\n",
        "from mlxtend.frequent_patterns import apriori, association_rules\n",
        "import matplotlib.pyplot as plt\n",
        "import seaborn as sns\n"
      ]
    },
    {
      "cell_type": "code",
      "source": [
        "from google.colab import drive#連結雲端硬碟\n",
        "drive.mount('/content/drive')"
      ],
      "metadata": {
        "colab": {
          "base_uri": "https://localhost:8080/"
        },
        "id": "eaLUd0f8jDpv",
        "outputId": "4e087a69-fc61-43fa-81de-9170f1f7d119"
      },
      "execution_count": 11,
      "outputs": [
        {
          "output_type": "stream",
          "name": "stdout",
          "text": [
            "Mounted at /content/drive\n"
          ]
        }
      ]
    },
    {
      "cell_type": "code",
      "source": [
        "# 載入 IVV 和 SPY 的資料\n",
        "ivv_df = pd.read_csv('/content/drive/MyDrive/金融大數據應用/期末報告/IVV.csv')\n",
        "spy_df = pd.read_csv('/content/drive/MyDrive/金融大數據應用/期末報告/SPY.csv')"
      ],
      "metadata": {
        "id": "7VvsyucUhTKn",
        "colab": {
          "base_uri": "https://localhost:8080/",
          "height": 322
        },
        "outputId": "e0a36229-416c-48b4-a817-0ccc44982ee5"
      },
      "execution_count": 12,
      "outputs": [
        {
          "output_type": "error",
          "ename": "FileNotFoundError",
          "evalue": "[Errno 2] No such file or directory: '/content/drive/MyDrive/金融大數據應用/期末報告/IVV.csv'",
          "traceback": [
            "\u001b[0;31m---------------------------------------------------------------------------\u001b[0m",
            "\u001b[0;31mFileNotFoundError\u001b[0m                         Traceback (most recent call last)",
            "\u001b[0;32m<ipython-input-12-9116b2222844>\u001b[0m in \u001b[0;36m<cell line: 0>\u001b[0;34m()\u001b[0m\n\u001b[1;32m      1\u001b[0m \u001b[0;31m# 載入 IVV 和 SPY 的資料\u001b[0m\u001b[0;34m\u001b[0m\u001b[0;34m\u001b[0m\u001b[0m\n\u001b[0;32m----> 2\u001b[0;31m \u001b[0mivv_df\u001b[0m \u001b[0;34m=\u001b[0m \u001b[0mpd\u001b[0m\u001b[0;34m.\u001b[0m\u001b[0mread_csv\u001b[0m\u001b[0;34m(\u001b[0m\u001b[0;34m'/content/drive/MyDrive/金融大數據應用/期末報告/IVV.csv'\u001b[0m\u001b[0;34m)\u001b[0m\u001b[0;34m\u001b[0m\u001b[0;34m\u001b[0m\u001b[0m\n\u001b[0m\u001b[1;32m      3\u001b[0m \u001b[0mspy_df\u001b[0m \u001b[0;34m=\u001b[0m \u001b[0mpd\u001b[0m\u001b[0;34m.\u001b[0m\u001b[0mread_csv\u001b[0m\u001b[0;34m(\u001b[0m\u001b[0;34m'/content/drive/MyDrive/金融大數據應用/期末報告/SPY.csv'\u001b[0m\u001b[0;34m)\u001b[0m\u001b[0;34m\u001b[0m\u001b[0;34m\u001b[0m\u001b[0m\n",
            "\u001b[0;32m/usr/local/lib/python3.11/dist-packages/pandas/io/parsers/readers.py\u001b[0m in \u001b[0;36mread_csv\u001b[0;34m(filepath_or_buffer, sep, delimiter, header, names, index_col, usecols, dtype, engine, converters, true_values, false_values, skipinitialspace, skiprows, skipfooter, nrows, na_values, keep_default_na, na_filter, verbose, skip_blank_lines, parse_dates, infer_datetime_format, keep_date_col, date_parser, date_format, dayfirst, cache_dates, iterator, chunksize, compression, thousands, decimal, lineterminator, quotechar, quoting, doublequote, escapechar, comment, encoding, encoding_errors, dialect, on_bad_lines, delim_whitespace, low_memory, memory_map, float_precision, storage_options, dtype_backend)\u001b[0m\n\u001b[1;32m   1024\u001b[0m     \u001b[0mkwds\u001b[0m\u001b[0;34m.\u001b[0m\u001b[0mupdate\u001b[0m\u001b[0;34m(\u001b[0m\u001b[0mkwds_defaults\u001b[0m\u001b[0;34m)\u001b[0m\u001b[0;34m\u001b[0m\u001b[0;34m\u001b[0m\u001b[0m\n\u001b[1;32m   1025\u001b[0m \u001b[0;34m\u001b[0m\u001b[0m\n\u001b[0;32m-> 1026\u001b[0;31m     \u001b[0;32mreturn\u001b[0m \u001b[0m_read\u001b[0m\u001b[0;34m(\u001b[0m\u001b[0mfilepath_or_buffer\u001b[0m\u001b[0;34m,\u001b[0m \u001b[0mkwds\u001b[0m\u001b[0;34m)\u001b[0m\u001b[0;34m\u001b[0m\u001b[0;34m\u001b[0m\u001b[0m\n\u001b[0m\u001b[1;32m   1027\u001b[0m \u001b[0;34m\u001b[0m\u001b[0m\n\u001b[1;32m   1028\u001b[0m \u001b[0;34m\u001b[0m\u001b[0m\n",
            "\u001b[0;32m/usr/local/lib/python3.11/dist-packages/pandas/io/parsers/readers.py\u001b[0m in \u001b[0;36m_read\u001b[0;34m(filepath_or_buffer, kwds)\u001b[0m\n\u001b[1;32m    618\u001b[0m \u001b[0;34m\u001b[0m\u001b[0m\n\u001b[1;32m    619\u001b[0m     \u001b[0;31m# Create the parser.\u001b[0m\u001b[0;34m\u001b[0m\u001b[0;34m\u001b[0m\u001b[0m\n\u001b[0;32m--> 620\u001b[0;31m     \u001b[0mparser\u001b[0m \u001b[0;34m=\u001b[0m \u001b[0mTextFileReader\u001b[0m\u001b[0;34m(\u001b[0m\u001b[0mfilepath_or_buffer\u001b[0m\u001b[0;34m,\u001b[0m \u001b[0;34m**\u001b[0m\u001b[0mkwds\u001b[0m\u001b[0;34m)\u001b[0m\u001b[0;34m\u001b[0m\u001b[0;34m\u001b[0m\u001b[0m\n\u001b[0m\u001b[1;32m    621\u001b[0m \u001b[0;34m\u001b[0m\u001b[0m\n\u001b[1;32m    622\u001b[0m     \u001b[0;32mif\u001b[0m \u001b[0mchunksize\u001b[0m \u001b[0;32mor\u001b[0m \u001b[0miterator\u001b[0m\u001b[0;34m:\u001b[0m\u001b[0;34m\u001b[0m\u001b[0;34m\u001b[0m\u001b[0m\n",
            "\u001b[0;32m/usr/local/lib/python3.11/dist-packages/pandas/io/parsers/readers.py\u001b[0m in \u001b[0;36m__init__\u001b[0;34m(self, f, engine, **kwds)\u001b[0m\n\u001b[1;32m   1618\u001b[0m \u001b[0;34m\u001b[0m\u001b[0m\n\u001b[1;32m   1619\u001b[0m         \u001b[0mself\u001b[0m\u001b[0;34m.\u001b[0m\u001b[0mhandles\u001b[0m\u001b[0;34m:\u001b[0m \u001b[0mIOHandles\u001b[0m \u001b[0;34m|\u001b[0m \u001b[0;32mNone\u001b[0m \u001b[0;34m=\u001b[0m \u001b[0;32mNone\u001b[0m\u001b[0;34m\u001b[0m\u001b[0;34m\u001b[0m\u001b[0m\n\u001b[0;32m-> 1620\u001b[0;31m         \u001b[0mself\u001b[0m\u001b[0;34m.\u001b[0m\u001b[0m_engine\u001b[0m \u001b[0;34m=\u001b[0m \u001b[0mself\u001b[0m\u001b[0;34m.\u001b[0m\u001b[0m_make_engine\u001b[0m\u001b[0;34m(\u001b[0m\u001b[0mf\u001b[0m\u001b[0;34m,\u001b[0m \u001b[0mself\u001b[0m\u001b[0;34m.\u001b[0m\u001b[0mengine\u001b[0m\u001b[0;34m)\u001b[0m\u001b[0;34m\u001b[0m\u001b[0;34m\u001b[0m\u001b[0m\n\u001b[0m\u001b[1;32m   1621\u001b[0m \u001b[0;34m\u001b[0m\u001b[0m\n\u001b[1;32m   1622\u001b[0m     \u001b[0;32mdef\u001b[0m \u001b[0mclose\u001b[0m\u001b[0;34m(\u001b[0m\u001b[0mself\u001b[0m\u001b[0;34m)\u001b[0m \u001b[0;34m->\u001b[0m \u001b[0;32mNone\u001b[0m\u001b[0;34m:\u001b[0m\u001b[0;34m\u001b[0m\u001b[0;34m\u001b[0m\u001b[0m\n",
            "\u001b[0;32m/usr/local/lib/python3.11/dist-packages/pandas/io/parsers/readers.py\u001b[0m in \u001b[0;36m_make_engine\u001b[0;34m(self, f, engine)\u001b[0m\n\u001b[1;32m   1878\u001b[0m                 \u001b[0;32mif\u001b[0m \u001b[0;34m\"b\"\u001b[0m \u001b[0;32mnot\u001b[0m \u001b[0;32min\u001b[0m \u001b[0mmode\u001b[0m\u001b[0;34m:\u001b[0m\u001b[0;34m\u001b[0m\u001b[0;34m\u001b[0m\u001b[0m\n\u001b[1;32m   1879\u001b[0m                     \u001b[0mmode\u001b[0m \u001b[0;34m+=\u001b[0m \u001b[0;34m\"b\"\u001b[0m\u001b[0;34m\u001b[0m\u001b[0;34m\u001b[0m\u001b[0m\n\u001b[0;32m-> 1880\u001b[0;31m             self.handles = get_handle(\n\u001b[0m\u001b[1;32m   1881\u001b[0m                 \u001b[0mf\u001b[0m\u001b[0;34m,\u001b[0m\u001b[0;34m\u001b[0m\u001b[0;34m\u001b[0m\u001b[0m\n\u001b[1;32m   1882\u001b[0m                 \u001b[0mmode\u001b[0m\u001b[0;34m,\u001b[0m\u001b[0;34m\u001b[0m\u001b[0;34m\u001b[0m\u001b[0m\n",
            "\u001b[0;32m/usr/local/lib/python3.11/dist-packages/pandas/io/common.py\u001b[0m in \u001b[0;36mget_handle\u001b[0;34m(path_or_buf, mode, encoding, compression, memory_map, is_text, errors, storage_options)\u001b[0m\n\u001b[1;32m    871\u001b[0m         \u001b[0;32mif\u001b[0m \u001b[0mioargs\u001b[0m\u001b[0;34m.\u001b[0m\u001b[0mencoding\u001b[0m \u001b[0;32mand\u001b[0m \u001b[0;34m\"b\"\u001b[0m \u001b[0;32mnot\u001b[0m \u001b[0;32min\u001b[0m \u001b[0mioargs\u001b[0m\u001b[0;34m.\u001b[0m\u001b[0mmode\u001b[0m\u001b[0;34m:\u001b[0m\u001b[0;34m\u001b[0m\u001b[0;34m\u001b[0m\u001b[0m\n\u001b[1;32m    872\u001b[0m             \u001b[0;31m# Encoding\u001b[0m\u001b[0;34m\u001b[0m\u001b[0;34m\u001b[0m\u001b[0m\n\u001b[0;32m--> 873\u001b[0;31m             handle = open(\n\u001b[0m\u001b[1;32m    874\u001b[0m                 \u001b[0mhandle\u001b[0m\u001b[0;34m,\u001b[0m\u001b[0;34m\u001b[0m\u001b[0;34m\u001b[0m\u001b[0m\n\u001b[1;32m    875\u001b[0m                 \u001b[0mioargs\u001b[0m\u001b[0;34m.\u001b[0m\u001b[0mmode\u001b[0m\u001b[0;34m,\u001b[0m\u001b[0;34m\u001b[0m\u001b[0;34m\u001b[0m\u001b[0m\n",
            "\u001b[0;31mFileNotFoundError\u001b[0m: [Errno 2] No such file or directory: '/content/drive/MyDrive/金融大數據應用/期末報告/IVV.csv'"
          ]
        }
      ]
    },
    {
      "cell_type": "code",
      "source": [
        "# 轉換日期格式\n",
        "ivv_df['Date'] = pd.to_datetime(ivv_df['Date'])\n",
        "spy_df['Date'] = pd.to_datetime(spy_df['Date'])\n",
        "\n",
        "# 只保留收盤價與日期\n",
        "ivv_df = ivv_df[['Date', 'Close']].rename(columns={'Close': 'IVV_Close'})\n",
        "spy_df = spy_df[['Date', 'Close']].rename(columns={'Close': 'SPY_Close'})\n",
        "\n",
        "# 合併資料\n",
        "merged_df = pd.merge(ivv_df, spy_df, on='Date', how='inner').sort_values('Date')\n",
        "merged_df"
      ],
      "metadata": {
        "id": "J8tL1o4Aklz3"
      },
      "execution_count": null,
      "outputs": []
    },
    {
      "cell_type": "code",
      "source": [
        "# 顯示欄位名稱確認內容\n",
        "print(\"IVV columns:\", ivv_df.columns)\n",
        "print(\"SPY columns:\", spy_df.columns)\n"
      ],
      "metadata": {
        "id": "L9Dh-t52mP6_"
      },
      "execution_count": null,
      "outputs": []
    },
    {
      "cell_type": "code",
      "source": [
        "# 嘗試找出收盤價欄位名稱（處理大小寫差異）\n",
        "ivv_close_col = [col for col in ivv_df.columns if 'close' in col.lower()][0]\n",
        "spy_close_col = [col for col in spy_df.columns if 'close' in col.lower()][0]"
      ],
      "metadata": {
        "id": "MGWRe9dbmUHf"
      },
      "execution_count": null,
      "outputs": []
    },
    {
      "cell_type": "code",
      "source": [
        "# 轉換日期格式\n",
        "ivv_df['Date'] = pd.to_datetime(ivv_df['Date'])\n",
        "spy_df['Date'] = pd.to_datetime(spy_df['Date'])\n",
        "\n",
        "# 只保留收盤價與日期\n",
        "ivv_df = ivv_df[['Date', ivv_close_col]].rename(columns={ivv_close_col: 'IVV_Close'})\n",
        "spy_df = spy_df[['Date', spy_close_col]].rename(columns={spy_close_col: 'SPY_Close'})\n",
        "\n",
        "# 合併資料\n",
        "merged_df = pd.merge(ivv_df, spy_df, on='Date', how='inner').sort_values('Date')\n"
      ],
      "metadata": {
        "id": "A8hrNMUymVee"
      },
      "execution_count": null,
      "outputs": []
    },
    {
      "cell_type": "code",
      "source": [
        "# 計算每日漲跌\n",
        "merged_df['IVV_Up'] = merged_df['IVV_Close'].diff() > 0\n",
        "merged_df['SPY_Up'] = merged_df['SPY_Close'].diff() > 0\n"
      ],
      "metadata": {
        "id": "JnadDx7emYIX"
      },
      "execution_count": null,
      "outputs": []
    },
    {
      "cell_type": "code",
      "source": [
        "# 計算移動平均線 (3日與7日)\n",
        "merged_df['IVV_MA3'] = merged_df['IVV_Close'].rolling(window=3).mean()\n",
        "merged_df['IVV_MA7'] = merged_df['IVV_Close'].rolling(window=7).mean()\n",
        "merged_df['SPY_MA3'] = merged_df['SPY_Close'].rolling(window=3).mean()\n",
        "merged_df['SPY_MA7'] = merged_df['SPY_Close'].rolling(window=7).mean()"
      ],
      "metadata": {
        "id": "2H0uhVlRnrdv"
      },
      "execution_count": null,
      "outputs": []
    },
    {
      "cell_type": "code",
      "source": [
        "# 比較均線與收盤價\n",
        "merged_df['IVV_MA3_Up'] = merged_df['IVV_Close'] > merged_df['IVV_MA3']\n",
        "merged_df['IVV_MA7_Up'] = merged_df['IVV_Close'] > merged_df['IVV_MA7']\n",
        "merged_df['SPY_MA3_Up'] = merged_df['SPY_Close'] > merged_df['SPY_MA3']\n",
        "merged_df['SPY_MA7_Up'] = merged_df['SPY_Close'] > merged_df['SPY_MA7']"
      ],
      "metadata": {
        "id": "hXAddblynriu"
      },
      "execution_count": null,
      "outputs": []
    },
    {
      "cell_type": "code",
      "source": [
        "# 計算移動平均（30 日與年線 252 日）\n",
        "merged_df['IVV_MA30'] = merged_df['IVV_Close'].rolling(window=30).mean()\n",
        "merged_df['IVV_MA252'] = merged_df['IVV_Close'].rolling(window=252).mean()\n",
        "merged_df['SPY_MA30'] = merged_df['SPY_Close'].rolling(window=30).mean()\n",
        "merged_df['SPY_MA252'] = merged_df['SPY_Close'].rolling(window=252).mean()"
      ],
      "metadata": {
        "id": "OFjLzMVIkkLw"
      },
      "execution_count": null,
      "outputs": []
    },
    {
      "cell_type": "code",
      "source": [
        "# 建立與均線比較的布林欄位\n",
        "merged_df['IVV_MA30_Up'] = merged_df['IVV_Close'] > merged_df['IVV_MA30']\n",
        "merged_df['IVV_MA252_Up'] = merged_df['IVV_Close'] > merged_df['IVV_MA252']\n",
        "merged_df['SPY_MA30_Up'] = merged_df['SPY_Close'] > merged_df['SPY_MA30']\n",
        "merged_df['SPY_MA252_Up'] = merged_df['SPY_Close'] > merged_df['SPY_MA252']\n"
      ],
      "metadata": {
        "id": "KQC82ikOkw9H"
      },
      "execution_count": null,
      "outputs": []
    },
    {
      "cell_type": "code",
      "source": [
        "# 建立交易資料表\n",
        "transaction_df = merged_df[['Date']].copy()\n",
        "binary_columns = [\n",
        "    'IVV_Up', 'SPY_Up',\n",
        "    'IVV_MA3_Up', 'IVV_MA7_Up', 'IVV_MA30_Up', 'IVV_MA252_Up',\n",
        "    'SPY_MA3_Up', 'SPY_MA7_Up', 'SPY_MA30_Up', 'SPY_MA252_Up'\n",
        "]\n",
        "for col in binary_columns:\n",
        "    transaction_df[col] = merged_df[col].astype(bool)\n"
      ],
      "metadata": {
        "id": "g6QQRG_VqbnI"
      },
      "execution_count": null,
      "outputs": []
    },
    {
      "cell_type": "code",
      "source": [
        "transaction_df"
      ],
      "metadata": {
        "id": "jhiUhIk9qfu2"
      },
      "execution_count": null,
      "outputs": []
    },
    {
      "cell_type": "code",
      "source": [
        "# 去除前252筆（均線才能完整）\n",
        "data_for_apriori = transaction_df.drop(columns=['Date']).iloc[252:]"
      ],
      "metadata": {
        "id": "fdF9oGSplhK2"
      },
      "execution_count": null,
      "outputs": []
    },
    {
      "cell_type": "code",
      "source": [
        "# 執行 Apriori 演算法\n",
        "frequent_itemsets = apriori(data_for_apriori, min_support=0.1, use_colnames=True)\n",
        "rules = association_rules(frequent_itemsets, metric=\"confidence\", min_threshold=0.6)"
      ],
      "metadata": {
        "id": "Lr6jGv91rVl-"
      },
      "execution_count": null,
      "outputs": []
    },
    {
      "cell_type": "code",
      "source": [
        "# 顯示關聯規則\n",
        "rules_df = rules[['antecedents', 'consequents', 'support', 'confidence', 'lift']]\n",
        "rules = association_rules(frequent_itemsets, metric=\"lift\", min_threshold=1.0)\n",
        "print(\"Top 10 關聯規則：\")\n",
        "print(rules_df.head(10))"
      ],
      "metadata": {
        "id": "P8jS5XBvrXZ3"
      },
      "execution_count": null,
      "outputs": []
    },
    {
      "cell_type": "code",
      "source": [
        "# 安裝中文字型（思源黑體）\n",
        "!apt-get -qq install fonts-noto-cjk\n"
      ],
      "metadata": {
        "id": "Ra3WI9wXu3In"
      },
      "execution_count": null,
      "outputs": []
    },
    {
      "cell_type": "code",
      "source": [
        "import matplotlib.pyplot as plt\n",
        "import matplotlib\n",
        "# 設定中文字型\n",
        "plt.rcParams['font.family'] = 'Noto Sans CJK JP'\n"
      ],
      "metadata": {
        "id": "ObuGEv1LvIvY"
      },
      "execution_count": null,
      "outputs": []
    },
    {
      "cell_type": "code",
      "source": [
        "import matplotlib.font_manager as fm\n"
      ],
      "metadata": {
        "id": "23AYffqyvpmY"
      },
      "execution_count": null,
      "outputs": []
    },
    {
      "cell_type": "code",
      "source": [
        "# ✅ 安裝中文字型：思源黑體\n",
        "!apt-get -y install fonts-noto-cjk > /dev/null\n",
        "\n",
        "# ✅ 重新載入字型設定\n",
        "import matplotlib.pyplot as plt\n",
        "import matplotlib.font_manager as fm\n",
        "import matplotlib as mpl\n",
        "\n",
        "mpl.rcParams['font.family'] = 'Noto Sans CJK TC'\n",
        "mpl.rcParams['axes.unicode_minus'] = False  # 避免負號亂碼\n"
      ],
      "metadata": {
        "id": "6gEH3DgXyRLB"
      },
      "execution_count": null,
      "outputs": []
    },
    {
      "cell_type": "code",
      "source": [
        "# ✅ 匯入套件\n",
        "import matplotlib.pyplot as plt\n",
        "#引入matplotlib.pyplot用來畫圖\n",
        "import matplotlib.font_manager as fm\n",
        "#引入matplotlib.font_manage用來載入字體\n",
        "#font_manager：負責載入/管理外部字型檔（重點！）\n",
        "# ✅ 指定 Noto 字型（用完整路徑）\n",
        "font_path = \"/usr/share/fonts/opentype/noto/NotoSansCJK-Regular.ttc\"\n",
        "#➡️告訴Python：「我想使用這個字型檔案來顯示中文字」。\n",
        "my_font = fm.FontProperties(fname=font_path)\n",
        "\n",
        "#| 部分             | 說明                         |\n",
        "#|-------------------------------|---------------------------------------------------------|\n",
        "#| font_path          | 指定字型檔案的絕對路徑（我們已知 Colab 安裝的位置） |\n",
        "#| FontProperties()       | 建立一個「字型物件」，用來指定要使用的字體 |\n",
        "#|fname=font_path\t       |告訴它「這個字型檔案的路徑是 font_path」\n",
        "#📌建立一個字型設定 my_font，使用指定路徑 /usr/... 裡的 Noto Sans CJK 字體"
      ],
      "metadata": {
        "id": "v_yVnEUE23bh"
      },
      "execution_count": null,
      "outputs": []
    },
    {
      "cell_type": "code",
      "source": [
        "import seaborn as sns\n",
        "import matplotlib.pyplot as plt\n",
        "import matplotlib.cm as cm\n",
        "import matplotlib.colors as colors\n",
        "\n",
        "# ➤ 根據 support 值的範圍建立顏色正規化器\n",
        "norm = colors.Normalize(vmin=rules_df['support'].min(), vmax=rules_df['support'].max())\n",
        "\n",
        "# ➤ 使用內建的 viridis 色彩映射（亮綠～深紫）\n",
        "cmap = cm.viridis\n",
        "\n",
        "# ➤ 將每筆 support 值轉換為對應的顏色\n",
        "colors_map = cmap(norm(rules_df['support']))\n",
        "\n",
        "# ➤ 畫圖開始：使用 matplotlib 的 scatter 畫散佈圖（能配合 colorbar）\n",
        "plt.figure(figsize=(9, 6))\n",
        "scatter = plt.scatter(\n",
        "    rules_df['confidence'],         # x 軸：信賴度\n",
        "    rules_df['lift'],              # y 軸：提升度\n",
        "    c=rules_df['support'],         # 點的顏色根據 support 值\n",
        "    s=30,                         # 每個點大小\n",
        "    cmap='viridis',                # 顏色使用 viridis colormap\n",
        "    alpha=0.8,                     # 半透明度\n",
        "    edgecolors='k'                 # 邊框顏色為黑色\n",
        ")\n",
        "\n",
        "# ➤ 加上 colorbar（支援視覺化 support 數值對應顏色）\n",
        "cbar = plt.colorbar(scatter)\n",
        "cbar.set_label('支持度（Support）', fontproperties=my_font)  # 若出錯可移除 fontproperties\n",
        "\n",
        "# ➤ 加上標題與軸標籤\n",
        "plt.title(\"Confidence vs Lift with Support as Color\", fontproperties=my_font)\n",
        "plt.xlabel(\"信賴度（Confidence）\", fontproperties=my_font)\n",
        "plt.ylabel(\"提升度（Lift）\", fontproperties=my_font)\n",
        "\n",
        "plt.grid(True)\n",
        "plt.tight_layout()\n",
        "plt.show()\n"
      ],
      "metadata": {
        "id": "mz2HxbMgze-w"
      },
      "execution_count": null,
      "outputs": []
    },
    {
      "cell_type": "code",
      "source": [
        "# 同時站上 3 日均線\n",
        "above_ma3 = (\n",
        "    (merged_df['IVV_Close'] > merged_df['IVV_MA3']) &\n",
        "    (merged_df['SPY_Close'] > merged_df['SPY_MA3'])\n",
        ").mean()\n",
        "\n",
        "# 同時站上 7 日均線\n",
        "above_ma7 = (\n",
        "    (merged_df['IVV_Close'] > merged_df['IVV_MA7']) &\n",
        "    (merged_df['SPY_Close'] > merged_df['SPY_MA7'])\n",
        ").mean()\n",
        "\n",
        "# 同時站上 30 日均線\n",
        "above_ma10 = (\n",
        "    (merged_df['IVV_Close'] > merged_df['IVV_MA30']) &\n",
        "    (merged_df['SPY_Close'] > merged_df['SPY_MA30'])\n",
        ").mean()\n",
        "\n",
        "# 同時站上 252 日均線\n",
        "above_ma252 = (\n",
        "    (merged_df['IVV_Close'] > merged_df['IVV_MA252']) &\n",
        "    (merged_df['SPY_Close'] > merged_df['SPY_MA252'])\n",
        ").mean()\n",
        "\n",
        "# 印出結果\n",
        "print(f\"同時站上 3 日均線的比例：{above_ma3:.2%}\")\n",
        "print(f\"同時站上 7 日均線的比例：{above_ma7:.2%}\")\n",
        "print(f\"同時站上 10 日均線的比例：{above_ma10:.2%}\")\n",
        "print(f\"同時站上 252 日均線的比例：{above_ma252:.2%}\")\n"
      ],
      "metadata": {
        "id": "xyE-f60jvDue"
      },
      "execution_count": null,
      "outputs": []
    },
    {
      "cell_type": "code",
      "source": [
        "import matplotlib.pyplot as plt\n",
        "from matplotlib.font_manager import FontProperties\n",
        "\n",
        "# 套用中文字型（Colab 環境用思源黑體）\n",
        "my_font = FontProperties(fname='/usr/share/fonts/opentype/noto/NotoSansCJK-Regular.ttc')\n",
        "\n",
        "# 資料準備\n",
        "df = merged_df.copy()\n",
        "df['IVV_Return'] = df['IVV_Close'].pct_change()\n",
        "df['SPY_Return'] = df['SPY_Close'].pct_change()\n",
        "\n",
        "# 建立 1～10 天的未來報酬\n",
        "for lag in range(1, 11):\n",
        "    df[f'SPY_Return_{lag}D'] = df['SPY_Close'].shift(-lag) / df['SPY_Close'] - 1\n",
        "\n",
        "# 篩選 IVV 上漲日\n",
        "ivv_up_df = df[df['IVV_Up'] == 1]\n",
        "\n",
        "# 畫 10 張直方圖\n",
        "plt.figure(figsize=(20, 8))\n",
        "\n",
        "for i, lag in enumerate(range(1, 11)):\n",
        "    plt.subplot(2, 5, i + 1)\n",
        "    data = ivv_up_df[f'SPY_Return_{lag}D'].dropna()\n",
        "    plt.hist(data, bins=30, alpha=0.7, color='skyblue', edgecolor='black')\n",
        "    plt.axvline(data.mean(), color='red', linestyle='dashed', linewidth=1.5, label=f'平均：{data.mean():.2%}')\n",
        "    plt.title(f'IVV 上漲後第 {lag} 天\\nSPY 報酬', fontproperties=my_font, fontsize=12)\n",
        "    plt.xlabel('報酬率', fontproperties=my_font)\n",
        "    plt.ylabel('次數', fontproperties=my_font)\n",
        "    plt.legend(prop=my_font)\n",
        "\n",
        "plt.tight_layout()\n",
        "plt.show()"
      ],
      "metadata": {
        "id": "ZQJCpWJgp1Ra"
      },
      "execution_count": null,
      "outputs": []
    },
    {
      "cell_type": "code",
      "source": [
        "print(merged_df.columns)"
      ],
      "metadata": {
        "id": "bxPohgFWzRVL"
      },
      "execution_count": null,
      "outputs": []
    },
    {
      "cell_type": "code",
      "source": [
        "import matplotlib.pyplot as plt\n",
        "\n",
        "# 設定 subplot\n",
        "fig, axs = plt.subplots(2, 2, figsize=(16, 10))  # 2x2 subplot\n",
        "fig.suptitle('SPY vs IVV Moving Averages', fontsize=16)\n",
        "\n",
        "# 繪圖函數（用在 subplot 上）\n",
        "def plot_ma_subplot(ax, window):\n",
        "    ax.plot(merged_df['Date'], merged_df['SPY_Close'], label='SPY Close', alpha=1 ,ls='--')\n",
        "    ax.plot(merged_df['Date'], merged_df[f'SPY_MA{window}'], label=f'SPY {window}-day MA', linewidth=3, ls='--')\n",
        "\n",
        "    ax.plot(merged_df['Date'], merged_df['IVV_Close'], label='IVV Close', alpha=0.3)\n",
        "    ax.plot(merged_df['Date'], merged_df[f'IVV_MA{window}'], label=f'IVV {window}-day MA', linewidth=2)\n",
        "\n",
        "    ax.set_title(f'{window}-Day MA')\n",
        "    ax.set_xlabel('Date')\n",
        "    ax.set_ylabel('Close Price')\n",
        "    ax.grid(True)\n",
        "    ax.legend()\n",
        "\n",
        "\n",
        "# 對應 subplot 位置\n",
        "windows = [3, 7, 30, 252]\n",
        "axes = axs.flatten()\n",
        "\n",
        "for i, window in enumerate(windows):\n",
        "    plot_ma_subplot(axes[i], window)\n",
        "\n",
        "plt.tight_layout(rect=[0, 0, 1, 0.96])  # 調整空間避免標題被蓋住\n",
        "plt.show()\n"
      ],
      "metadata": {
        "id": "YtTWaGDh0J5K"
      },
      "execution_count": null,
      "outputs": []
    },
    {
      "cell_type": "code",
      "source": [],
      "metadata": {
        "id": "x6TnnDdwzdvk"
      },
      "execution_count": null,
      "outputs": []
    },
    {
      "cell_type": "code",
      "source": [
        "import numpy as np\n",
        "import matplotlib.pyplot as plt\n",
        "from scipy.stats import pearsonr\n",
        "\n",
        "# 假設你已有 df，包含 'IVV_Return' 和 'SPY_Return'\n",
        "max_lag = 10  # 看未來幾天\n",
        "correlations = []\n",
        "\n",
        "for lag in range(0, max_lag + 1):\n",
        "    shifted_ivv = df['IVV_Return'].shift(lag)\n",
        "    valid_idx = ~shifted_ivv.isna() & ~df['SPY_Return'].isna()\n",
        "    corr, _ = pearsonr(shifted_ivv[valid_idx], df['SPY_Return'][valid_idx])\n",
        "    correlations.append(corr)\n",
        "\n",
        "# 畫圖\n",
        "plt.figure(figsize=(10, 5))\n",
        "plt.plot(range(0, max_lag + 1), correlations, marker='o')\n",
        "plt.title('IVV 領先 SPY 的延遲相關分析', fontproperties=my_font)\n",
        "plt.xlabel('延遲天數 (IVV 領先)', fontproperties=my_font)\n",
        "plt.ylabel('相關係數', fontproperties=my_font)\n",
        "plt.grid(True)\n",
        "plt.show()\n",
        "\n",
        "# 最佳延遲日\n",
        "best_lag = np.argmax(correlations)\n",
        "print(f\"IVV 領先 SPY 的最佳延遲天數是：{best_lag} 天，相關係數為：{correlations[best_lag]:.4f}\")"
      ],
      "metadata": {
        "id": "-bdn9qhWjRrQ"
      },
      "execution_count": null,
      "outputs": []
    },
    {
      "cell_type": "code",
      "source": [
        "df = merged_df.copy()  # 假設你用的是 merged_df\n",
        "\n",
        "# 計算每日報酬（百分比變動）\n",
        "df['IVV_Return'] = df['IVV_Close'].pct_change()\n",
        "df['SPY_Return'] = df['SPY_Close'].pct_change()\n"
      ],
      "metadata": {
        "id": "l6HI4DEEp6py"
      },
      "execution_count": null,
      "outputs": []
    },
    {
      "cell_type": "code",
      "source": [],
      "metadata": {
        "id": "6salfzcc1jsy"
      },
      "execution_count": null,
      "outputs": []
    }
  ]
}